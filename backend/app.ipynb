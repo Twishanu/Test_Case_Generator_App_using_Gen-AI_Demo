{
 "cells": [
  {
   "cell_type": "code",
   "execution_count": 2,
   "id": "3dca031f",
   "metadata": {},
   "outputs": [],
   "source": [
    "import os\n",
    "from dotenv import load_dotenv"
   ]
  },
  {
   "cell_type": "code",
   "execution_count": 3,
   "id": "046db60d",
   "metadata": {},
   "outputs": [
    {
     "data": {
      "text/plain": [
       "True"
      ]
     },
     "execution_count": 3,
     "metadata": {},
     "output_type": "execute_result"
    }
   ],
   "source": [
    "load_dotenv()"
   ]
  },
  {
   "cell_type": "code",
   "execution_count": 4,
   "id": "a34ccbd0",
   "metadata": {},
   "outputs": [
    {
     "name": "stdout",
     "output_type": "stream",
     "text": [
      "AIzaSy\n"
     ]
    }
   ],
   "source": [
    "GOOGLE_API_KEY = os.getenv(\"GOOGLE_API_KEY\")\n",
    "print(GOOGLE_API_KEY[:6])"
   ]
  },
  {
   "cell_type": "code",
   "execution_count": 5,
   "id": "60dc704f",
   "metadata": {},
   "outputs": [
    {
     "name": "stderr",
     "output_type": "stream",
     "text": [
      "c:\\Users\\aichr\\AppData\\Local\\Programs\\Python\\Python312\\Lib\\site-packages\\tqdm\\auto.py:21: TqdmWarning: IProgress not found. Please update jupyter and ipywidgets. See https://ipywidgets.readthedocs.io/en/stable/user_install.html\n",
      "  from .autonotebook import tqdm as notebook_tqdm\n"
     ]
    },
    {
     "data": {
      "text/plain": [
       "[-0.027409706264734268,\n",
       " -0.010154421441257,\n",
       " 0.03869868442416191,\n",
       " -0.07898290455341339,\n",
       " -0.01990700140595436]"
      ]
     },
     "execution_count": 5,
     "metadata": {},
     "output_type": "execute_result"
    }
   ],
   "source": [
    "from langchain_google_genai import GoogleGenerativeAIEmbeddings\n",
    "\n",
    "embeddings = GoogleGenerativeAIEmbeddings(model=\"models/gemini-embedding-001\")\n",
    "vector = embeddings.embed_query(\"hello, world! I am Twishanu yes\")\n",
    "vector[:5]"
   ]
  },
  {
   "cell_type": "code",
   "execution_count": 6,
   "id": "2bbd7759",
   "metadata": {},
   "outputs": [],
   "source": [
    "from langchain_community.document_loaders import PyPDFLoader, Docx2txtLoader"
   ]
  },
  {
   "cell_type": "code",
   "execution_count": 7,
   "id": "b3072094",
   "metadata": {},
   "outputs": [],
   "source": [
    "file_path = \"D:/AI enabled Test case gen/Documents/fictional_rag_story.pdf\"  \n",
    "if file_path.endswith(\".pdf\"):\n",
    "    loader = PyPDFLoader(file_path)\n",
    "elif file_path.endswith(\".docx\"):\n",
    "    loader = Docx2txtLoader(file_path)\n",
    "else:\n",
    "    raise ValueError(\"Unsupported file type\")\n",
    "\n",
    "documents = loader.load()"
   ]
  },
  {
   "cell_type": "code",
   "execution_count": 8,
   "id": "01e2d1c9",
   "metadata": {},
   "outputs": [
    {
     "data": {
      "text/plain": [
       "[Document(metadata={'producer': 'ReportLab PDF Library - www.reportlab.com', 'creator': '(unspecified)', 'creationdate': '2025-08-15T09:12:08+00:00', 'author': '(anonymous)', 'keywords': '', 'moddate': '2025-08-15T09:12:08+00:00', 'subject': '(unspecified)', 'title': '(anonymous)', 'trapped': '/False', 'source': 'D:/AI enabled Test case gen/Documents/fictional_rag_story.pdf', 'total_pages': 1, 'page': 0, 'page_label': '1'}, page_content='The Tale of RAG: Retrieval-Augmented Guardian\\nOnce upon a time in the digital city of Algoville, there lived an old librarian named Clara. Clara was\\nno ordinary librarian — she managed the Great Knowledge Vault, a magical library where every\\npiece of human wisdom was stored, but locked in a language no one could understand. One day, a\\nyoung coder named Rian discovered an ancient scroll describing the \"Retriever\\'s Art\" — a method\\nto find hidden truths within the vault. With Clara\\'s help, he built a mystical chatbot that could\\nunderstand the scrolls, retrieve relevant knowledge, and answer questions. They named it RAG —\\nRetrieval-Augmented Guardian. Whenever a citizen asked a question, RAG would fetch the most\\nrelevant scrolls, read them, and provide an answer, as if powered by the wisdom of a thousand\\nminds. Soon, Algoville thrived with knowledge flowing freely, and Clara finally rested, knowing her\\nlife’s mission was complete.')]"
      ]
     },
     "execution_count": 8,
     "metadata": {},
     "output_type": "execute_result"
    }
   ],
   "source": [
    "documents"
   ]
  },
  {
   "cell_type": "code",
   "execution_count": 9,
   "id": "99b0edbc",
   "metadata": {},
   "outputs": [],
   "source": [
    "from langchain.text_splitter import RecursiveCharacterTextSplitter"
   ]
  },
  {
   "cell_type": "code",
   "execution_count": 10,
   "id": "910d3b71",
   "metadata": {},
   "outputs": [],
   "source": [
    "splitter = RecursiveCharacterTextSplitter(chunk_size=100, chunk_overlap=50)\n",
    "chunks = splitter.split_documents(documents)\n"
   ]
  },
  {
   "cell_type": "code",
   "execution_count": 11,
   "id": "821c0015",
   "metadata": {},
   "outputs": [
    {
     "data": {
      "text/plain": [
       "[Document(metadata={'producer': 'ReportLab PDF Library - www.reportlab.com', 'creator': '(unspecified)', 'creationdate': '2025-08-15T09:12:08+00:00', 'author': '(anonymous)', 'keywords': '', 'moddate': '2025-08-15T09:12:08+00:00', 'subject': '(unspecified)', 'title': '(anonymous)', 'trapped': '/False', 'source': 'D:/AI enabled Test case gen/Documents/fictional_rag_story.pdf', 'total_pages': 1, 'page': 0, 'page_label': '1'}, page_content='The Tale of RAG: Retrieval-Augmented Guardian'),\n",
       " Document(metadata={'producer': 'ReportLab PDF Library - www.reportlab.com', 'creator': '(unspecified)', 'creationdate': '2025-08-15T09:12:08+00:00', 'author': '(anonymous)', 'keywords': '', 'moddate': '2025-08-15T09:12:08+00:00', 'subject': '(unspecified)', 'title': '(anonymous)', 'trapped': '/False', 'source': 'D:/AI enabled Test case gen/Documents/fictional_rag_story.pdf', 'total_pages': 1, 'page': 0, 'page_label': '1'}, page_content='Once upon a time in the digital city of Algoville, there lived an old librarian named Clara. Clara'),\n",
       " Document(metadata={'producer': 'ReportLab PDF Library - www.reportlab.com', 'creator': '(unspecified)', 'creationdate': '2025-08-15T09:12:08+00:00', 'author': '(anonymous)', 'keywords': '', 'moddate': '2025-08-15T09:12:08+00:00', 'subject': '(unspecified)', 'title': '(anonymous)', 'trapped': '/False', 'source': 'D:/AI enabled Test case gen/Documents/fictional_rag_story.pdf', 'total_pages': 1, 'page': 0, 'page_label': '1'}, page_content='there lived an old librarian named Clara. Clara was'),\n",
       " Document(metadata={'producer': 'ReportLab PDF Library - www.reportlab.com', 'creator': '(unspecified)', 'creationdate': '2025-08-15T09:12:08+00:00', 'author': '(anonymous)', 'keywords': '', 'moddate': '2025-08-15T09:12:08+00:00', 'subject': '(unspecified)', 'title': '(anonymous)', 'trapped': '/False', 'source': 'D:/AI enabled Test case gen/Documents/fictional_rag_story.pdf', 'total_pages': 1, 'page': 0, 'page_label': '1'}, page_content='no ordinary librarian — she managed the Great Knowledge Vault, a magical library where every'),\n",
       " Document(metadata={'producer': 'ReportLab PDF Library - www.reportlab.com', 'creator': '(unspecified)', 'creationdate': '2025-08-15T09:12:08+00:00', 'author': '(anonymous)', 'keywords': '', 'moddate': '2025-08-15T09:12:08+00:00', 'subject': '(unspecified)', 'title': '(anonymous)', 'trapped': '/False', 'source': 'D:/AI enabled Test case gen/Documents/fictional_rag_story.pdf', 'total_pages': 1, 'page': 0, 'page_label': '1'}, page_content='piece of human wisdom was stored, but locked in a language no one could understand. One day, a'),\n",
       " Document(metadata={'producer': 'ReportLab PDF Library - www.reportlab.com', 'creator': '(unspecified)', 'creationdate': '2025-08-15T09:12:08+00:00', 'author': '(anonymous)', 'keywords': '', 'moddate': '2025-08-15T09:12:08+00:00', 'subject': '(unspecified)', 'title': '(anonymous)', 'trapped': '/False', 'source': 'D:/AI enabled Test case gen/Documents/fictional_rag_story.pdf', 'total_pages': 1, 'page': 0, 'page_label': '1'}, page_content='young coder named Rian discovered an ancient scroll describing the \"Retriever\\'s Art\" — a method'),\n",
       " Document(metadata={'producer': 'ReportLab PDF Library - www.reportlab.com', 'creator': '(unspecified)', 'creationdate': '2025-08-15T09:12:08+00:00', 'author': '(anonymous)', 'keywords': '', 'moddate': '2025-08-15T09:12:08+00:00', 'subject': '(unspecified)', 'title': '(anonymous)', 'trapped': '/False', 'source': 'D:/AI enabled Test case gen/Documents/fictional_rag_story.pdf', 'total_pages': 1, 'page': 0, 'page_label': '1'}, page_content=\"to find hidden truths within the vault. With Clara's help, he built a mystical chatbot that could\"),\n",
       " Document(metadata={'producer': 'ReportLab PDF Library - www.reportlab.com', 'creator': '(unspecified)', 'creationdate': '2025-08-15T09:12:08+00:00', 'author': '(anonymous)', 'keywords': '', 'moddate': '2025-08-15T09:12:08+00:00', 'subject': '(unspecified)', 'title': '(anonymous)', 'trapped': '/False', 'source': 'D:/AI enabled Test case gen/Documents/fictional_rag_story.pdf', 'total_pages': 1, 'page': 0, 'page_label': '1'}, page_content='understand the scrolls, retrieve relevant knowledge, and answer questions. They named it RAG —'),\n",
       " Document(metadata={'producer': 'ReportLab PDF Library - www.reportlab.com', 'creator': '(unspecified)', 'creationdate': '2025-08-15T09:12:08+00:00', 'author': '(anonymous)', 'keywords': '', 'moddate': '2025-08-15T09:12:08+00:00', 'subject': '(unspecified)', 'title': '(anonymous)', 'trapped': '/False', 'source': 'D:/AI enabled Test case gen/Documents/fictional_rag_story.pdf', 'total_pages': 1, 'page': 0, 'page_label': '1'}, page_content='Retrieval-Augmented Guardian. Whenever a citizen asked a question, RAG would fetch the most'),\n",
       " Document(metadata={'producer': 'ReportLab PDF Library - www.reportlab.com', 'creator': '(unspecified)', 'creationdate': '2025-08-15T09:12:08+00:00', 'author': '(anonymous)', 'keywords': '', 'moddate': '2025-08-15T09:12:08+00:00', 'subject': '(unspecified)', 'title': '(anonymous)', 'trapped': '/False', 'source': 'D:/AI enabled Test case gen/Documents/fictional_rag_story.pdf', 'total_pages': 1, 'page': 0, 'page_label': '1'}, page_content='relevant scrolls, read them, and provide an answer, as if powered by the wisdom of a thousand'),\n",
       " Document(metadata={'producer': 'ReportLab PDF Library - www.reportlab.com', 'creator': '(unspecified)', 'creationdate': '2025-08-15T09:12:08+00:00', 'author': '(anonymous)', 'keywords': '', 'moddate': '2025-08-15T09:12:08+00:00', 'subject': '(unspecified)', 'title': '(anonymous)', 'trapped': '/False', 'source': 'D:/AI enabled Test case gen/Documents/fictional_rag_story.pdf', 'total_pages': 1, 'page': 0, 'page_label': '1'}, page_content='minds. Soon, Algoville thrived with knowledge flowing freely, and Clara finally rested, knowing her'),\n",
       " Document(metadata={'producer': 'ReportLab PDF Library - www.reportlab.com', 'creator': '(unspecified)', 'creationdate': '2025-08-15T09:12:08+00:00', 'author': '(anonymous)', 'keywords': '', 'moddate': '2025-08-15T09:12:08+00:00', 'subject': '(unspecified)', 'title': '(anonymous)', 'trapped': '/False', 'source': 'D:/AI enabled Test case gen/Documents/fictional_rag_story.pdf', 'total_pages': 1, 'page': 0, 'page_label': '1'}, page_content='life’s mission was complete.')]"
      ]
     },
     "execution_count": 11,
     "metadata": {},
     "output_type": "execute_result"
    }
   ],
   "source": [
    "chunks"
   ]
  },
  {
   "cell_type": "code",
   "execution_count": 12,
   "id": "a531ff47",
   "metadata": {},
   "outputs": [],
   "source": [
    "from langchain_community.vectorstores import Chroma"
   ]
  },
  {
   "cell_type": "code",
   "execution_count": 14,
   "id": "3557d1b6",
   "metadata": {},
   "outputs": [
    {
     "ename": "",
     "evalue": "",
     "output_type": "error",
     "traceback": [
      "\u001b[1;31mThe Kernel crashed while executing code in the current cell or a previous cell. \n",
      "\u001b[1;31mPlease review the code in the cell(s) to identify a possible cause of the failure. \n",
      "\u001b[1;31mClick <a href='https://aka.ms/vscodeJupyterKernelCrash'>here</a> for more info. \n",
      "\u001b[1;31mView Jupyter <a href='command:jupyter.viewOutput'>log</a> for further details."
     ]
    }
   ],
   "source": [
    "# vectorstore = Chroma(\n",
    "#     persist_directory=\"./chroma_sample_doc\",\n",
    "#     embedding_function=embeddings\n",
    "# )\n",
    "\n",
    "# batch_size = 10  # you can try 5 or 10 if memory is still low\n",
    "\n",
    "# for i in range(0, len(chunks), batch_size):\n",
    "#     batch = chunks[i:i+batch_size]\n",
    "#     print(f\"Processing batch {i // batch_size + 1} / {len(chunks) // batch_size + 1}\")\n",
    "#     vectorstore.add_documents(batch)\n",
    "#     vectorstore.persist()\n",
    "\n",
    "# print(\"✅ Embedding complete and saved!\")\n",
    "\n",
    "\n",
    "vectorstore=Chroma.from_documents(chunks, embedding=embeddings, persist_directory=\"db\")\n",
    "print(\"✅ Embedding complete and saved!\")"
   ]
  },
  {
   "cell_type": "code",
   "execution_count": null,
   "id": "edab5eb1",
   "metadata": {},
   "outputs": [],
   "source": [
    "import warnings\n",
    "warnings.filterwarnings('ignore')"
   ]
  },
  {
   "cell_type": "code",
   "execution_count": null,
   "id": "1c09f01c",
   "metadata": {},
   "outputs": [],
   "source": [
    "from langchain_google_genai import ChatGoogleGenerativeAI\n",
    "model = ChatGoogleGenerativeAI(model=\"models/gemini-2.5-flash-lite\",convert_system_message_to_human=True)"
   ]
  },
  {
   "cell_type": "code",
   "execution_count": null,
   "id": "17bd3133",
   "metadata": {},
   "outputs": [
    {
     "name": "stdout",
     "output_type": "stream",
     "text": [
      "Hi there! How can I help you today?\n"
     ]
    }
   ],
   "source": [
    "print(model.invoke(\"hi\").content)"
   ]
  },
  {
   "cell_type": "code",
   "execution_count": null,
   "id": "6a14d97c",
   "metadata": {},
   "outputs": [],
   "source": [
    "from langchain.chains import create_retrieval_chain\n",
    "from langchain.chains.combine_documents import create_stuff_documents_chain\n",
    "from langchain_core.prompts import ChatPromptTemplate\n",
    "from langchain_core.prompts import MessagesPlaceholder"
   ]
  },
  {
   "cell_type": "code",
   "execution_count": null,
   "id": "03880800",
   "metadata": {},
   "outputs": [
    {
     "name": "stdout",
     "output_type": "stream",
     "text": [
      "tags=['Chroma', 'GoogleGenerativeAIEmbeddings'] vectorstore=<langchain_community.vectorstores.chroma.Chroma object at 0x0000026B7F457FE0> search_kwargs={'k': 3}\n"
     ]
    }
   ],
   "source": [
    "retriever = vectorstore.as_retriever(search_kwargs={\"k\": 3})\n",
    "print(retriever)"
   ]
  },
  {
   "cell_type": "code",
   "execution_count": null,
   "id": "6bfea708",
   "metadata": {},
   "outputs": [],
   "source": [
    "#####\n",
    "system_prompt = (\n",
    "    \"You are an assistant for question-answering tasks. \"\n",
    "    \"Use the following pieces of retrieved context to answer the question \"\n",
    "    \"If you don't know the answer, say that you don't know.\"\n",
    "    \"Use three sentences maximum and keep the answer concise.\"\n",
    "    \"\\n\\n\"\n",
    "    \"{context}\"\n",
    ")"
   ]
  },
  {
   "cell_type": "code",
   "execution_count": null,
   "id": "2150dc31",
   "metadata": {},
   "outputs": [],
   "source": [
    "## Both are fed....\n",
    "chat_prompt = ChatPromptTemplate.from_messages(\n",
    "    [\n",
    "        (\"system\", system_prompt),\n",
    "        (\"human\", \"{input}\"),\n",
    "    ]\n",
    ")"
   ]
  },
  {
   "cell_type": "code",
   "execution_count": null,
   "id": "1c1104c8",
   "metadata": {},
   "outputs": [],
   "source": [
    "question_answering_chain = create_stuff_documents_chain(model, chat_prompt)"
   ]
  },
  {
   "cell_type": "code",
   "execution_count": null,
   "id": "b3d50246",
   "metadata": {},
   "outputs": [],
   "source": [
    "\n",
    "rag_chain = create_retrieval_chain(retriever, question_answering_chain)"
   ]
  },
  {
   "cell_type": "code",
   "execution_count": null,
   "id": "a0e5433a",
   "metadata": {},
   "outputs": [
    {
     "data": {
      "text/plain": [
       "\"I need the document you're referring to in order to provide a summary. Please provide the text or a link to the document.\""
      ]
     },
     "execution_count": 24,
     "metadata": {},
     "output_type": "execute_result"
    }
   ],
   "source": [
    "response = rag_chain.invoke({\"input\":\"what do you summarize from the given doc?\"})\n",
    "response[\"answer\"]"
   ]
  }
 ],
 "metadata": {
  "kernelspec": {
   "display_name": "Python 3",
   "language": "python",
   "name": "python3"
  },
  "language_info": {
   "codemirror_mode": {
    "name": "ipython",
    "version": 3
   },
   "file_extension": ".py",
   "mimetype": "text/x-python",
   "name": "python",
   "nbconvert_exporter": "python",
   "pygments_lexer": "ipython3",
   "version": "3.12.0"
  }
 },
 "nbformat": 4,
 "nbformat_minor": 5
}
