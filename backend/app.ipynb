{
 "cells": [
  {
   "cell_type": "code",
   "execution_count": 1,
   "id": "3dca031f",
   "metadata": {},
   "outputs": [],
   "source": [
    "from langchain_community.document_loaders import PyPDFLoader\n",
    "from langchain.text_splitter import RecursiveCharacterTextSplitter\n",
    "from langchain_community.embeddings import OllamaEmbeddings\n",
    "from langchain_community.vectorstores import Chroma"
   ]
  },
  {
   "cell_type": "code",
   "execution_count": 2,
   "id": "b3072094",
   "metadata": {},
   "outputs": [],
   "source": [
    "loader = PyPDFLoader('D:/AI enabled Test case gen/Documents/Itinerary.pdf')"
   ]
  },
  {
   "cell_type": "code",
   "execution_count": 3,
   "id": "3557d1b6",
   "metadata": {},
   "outputs": [],
   "source": [
    "documents = loader.load()\n",
    "# type(documents)\n",
    "# print(documents)"
   ]
  },
  {
   "cell_type": "code",
   "execution_count": null,
   "id": "2dcb86ba",
   "metadata": {},
   "outputs": [
    {
     "name": "stdout",
     "output_type": "stream",
     "text": [
      "[Document(metadata={'producer': 'Skia/PDF m131', 'creator': 'Mozilla/5.0 (Windows NT 10.0; Win64; x64) AppleWebKit/537.36 (KHTML, like Gecko) Chrome/131.0.0.0 Safari/537.36', 'creationdate': '2024-11-23T13:06:00+00:00', 'title': 'Itinerary', 'moddate': '2024-11-23T13:06:00+00:00', 'source': 'D:/AI enabled Test case gen/Documents/Itinerary.pdf', 'total_pages': 2, 'page': 0, 'page_label': '1'}, page_content='PNR/Booking Reference LTQ7RI Confirmed Payment StatusComplete\\nPassenger Information\\nMr Twishanu Aich Roy Adult\\nSector Seat 6E Add-ons\\nCCU-BOM - -\\nBOM-CCU - -\\nKolkata\\nCCU - Netaji Subhash Chandra Bose\\nInternational Airport\\n06:15 hrs, 10 Jan 2025\\nMumbai\\nBOM - Chhatrapati Shivaji Maharaj\\nInternational Airport (Terminal 2)\\n09:15 hrs, 10 Jan 2025\\nMumbai\\nBOM - Chhatrapati Shivaji Maharaj\\nInternational Airport (Terminal 1)\\n20:30 hrs, 13 Jan 2025\\nKolkata\\nCCU - Netaji Subhash Chandra Bose\\nInternational Airport\\n23:05 hrs, 13 Jan 2025\\n*Date of Booking23 Nov 2024 13:04\\n6E 313 (A321) 10 Jan 2025Check-in/Bag Drop Closes: 05:15 hrs\\nTravel Time3h 0m\\n6E 5089 (A321) 13 Jan 2025Check-in/Bag Drop Closes: 19:30 hrs\\nTravel Time2h 35m\\n11/23/24, 6:36 PM Itinerary\\nhttps://www.goindigo.in/book/itinerary.html?order_id=JFTWEE7FB241123010255&payment_status=COMPLETED&isBookingFlow=1&refUrl=https… 1/2'), Document(metadata={'producer': 'Skia/PDF m131', 'creator': 'Mozilla/5.0 (Windows NT 10.0; Win64; x64) AppleWebKit/537.36 (KHTML, like Gecko) Chrome/131.0.0.0 Safari/537.36', 'creationdate': '2024-11-23T13:06:00+00:00', 'title': 'Itinerary', 'moddate': '2024-11-23T13:06:00+00:00', 'source': 'D:/AI enabled Test case gen/Documents/Itinerary.pdf', 'total_pages': 2, 'page': 1, 'page_label': '2'}, page_content='*Date of Booking23 Nov 2024 13:04\\nBaggage Information\\nS No. Sector Adult\\n1 CCU - BOM Check-in: 15KG, Cabin: Up to 7KG\\n2 BOM - CCU Check-in: 15KG, Cabin: Up to 7KG\\nFlight summary\\n₹9,296\\n₹472\\n₹741\\n₹232\\n₹233\\n₹10,974\\nTotal fare ₹10,974\\nAirFare Charge\\nAviation Security Fee\\nUser Development fee\\nGST for West Bengal\\nGST for Maharashtra\\nContact Details\\nNumber:  +91-93XXXX90\\nE - mail:  t*XXXXXXXXXXXXom\\n11/23/24, 6:36 PM Itinerary\\nhttps://www.goindigo.in/book/itinerary.html?order_id=JFTWEE7FB241123010255&payment_status=COMPLETED&isBookingFlow=1&refUrl=https… 2/2')]\n"
     ]
    }
   ],
   "source": [
    "splitter = RecursiveCharacterTextSplitter(chunk_size=500, chunk_overlap=50)\n",
    "chunk = splitter.split_documents(documents)\n",
    "print(chunk)"
   ]
  },
  {
   "cell_type": "code",
   "execution_count": null,
   "id": "edab5eb1",
   "metadata": {},
   "outputs": [],
   "source": []
  },
  {
   "cell_type": "code",
   "execution_count": 5,
   "id": "1c09f01c",
   "metadata": {},
   "outputs": [
    {
     "name": "stderr",
     "output_type": "stream",
     "text": [
      "C:\\Users\\aichr\\AppData\\Local\\Temp\\ipykernel_13192\\2529941669.py:1: LangChainDeprecationWarning: The class `OllamaEmbeddings` was deprecated in LangChain 0.3.1 and will be removed in 1.0.0. An updated version of the class exists in the :class:`~langchain-ollama package and should be used instead. To use it run `pip install -U :class:`~langchain-ollama` and import as `from :class:`~langchain_ollama import OllamaEmbeddings``.\n",
      "  embeddings = OllamaEmbeddings(model=\"all-minilm\")\n"
     ]
    }
   ],
   "source": [
    "embeddings = OllamaEmbeddings(model=\"all-minilm\")"
   ]
  },
  {
   "cell_type": "code",
   "execution_count": 6,
   "id": "17bd3133",
   "metadata": {},
   "outputs": [
    {
     "ename": "",
     "evalue": "",
     "output_type": "error",
     "traceback": [
      "\u001b[1;31mThe Kernel crashed while executing code in the current cell or a previous cell. \n",
      "\u001b[1;31mPlease review the code in the cell(s) to identify a possible cause of the failure. \n",
      "\u001b[1;31mClick <a href='https://aka.ms/vscodeJupyterKernelCrash'>here</a> for more info. \n",
      "\u001b[1;31mView Jupyter <a href='command:jupyter.viewOutput'>log</a> for further details."
     ]
    }
   ],
   "source": [
    "db = Chroma.from_documents(chunk, embeddings, persist_directory=\"vectorFinal_db\")\n",
    "db.persist()"
   ]
  }
 ],
 "metadata": {
  "kernelspec": {
   "display_name": "Python 3",
   "language": "python",
   "name": "python3"
  },
  "language_info": {
   "codemirror_mode": {
    "name": "ipython",
    "version": 3
   },
   "file_extension": ".py",
   "mimetype": "text/x-python",
   "name": "python",
   "nbconvert_exporter": "python",
   "pygments_lexer": "ipython3",
   "version": "3.12.0"
  }
 },
 "nbformat": 4,
 "nbformat_minor": 5
}
