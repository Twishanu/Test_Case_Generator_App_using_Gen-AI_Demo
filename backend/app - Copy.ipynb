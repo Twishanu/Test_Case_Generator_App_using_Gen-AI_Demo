{
 "cells": [
  {
   "cell_type": "code",
   "execution_count": null,
   "id": "3dca031f",
   "metadata": {},
   "outputs": [],
   "source": [
    "import os\n",
    "from dotenv import load_dotenv"
   ]
  },
  {
   "cell_type": "code",
   "execution_count": 3,
   "id": "046db60d",
   "metadata": {},
   "outputs": [
    {
     "data": {
      "text/plain": [
       "True"
      ]
     },
     "execution_count": 3,
     "metadata": {},
     "output_type": "execute_result"
    }
   ],
   "source": [
    "load_dotenv()"
   ]
  },
  {
   "cell_type": "code",
   "execution_count": 4,
   "id": "a34ccbd0",
   "metadata": {},
   "outputs": [
    {
     "name": "stdout",
     "output_type": "stream",
     "text": [
      "AIzaSy\n"
     ]
    }
   ],
   "source": [
    "GOOGLE_API_KEY = os.getenv(\"GOOGLE_API_KEY\")\n",
    "print(GOOGLE_API_KEY[:6])"
   ]
  },
  {
   "cell_type": "code",
   "execution_count": 5,
   "id": "60dc704f",
   "metadata": {},
   "outputs": [
    {
     "data": {
      "text/plain": [
       "[-0.027409706264734268,\n",
       " -0.010154421441257,\n",
       " 0.03869868442416191,\n",
       " -0.07898290455341339,\n",
       " -0.01990700140595436]"
      ]
     },
     "execution_count": 5,
     "metadata": {},
     "output_type": "execute_result"
    }
   ],
   "source": [
    "from langchain_google_genai import GoogleGenerativeAIEmbeddings\n",
    "\n",
    "embeddings = GoogleGenerativeAIEmbeddings(model=\"models/gemini-embedding-001\")\n",
    "vector = embeddings.embed_query(\"hello, world! I am Twishanu yes\")\n",
    "vector[:5]"
   ]
  },
  {
   "cell_type": "code",
   "execution_count": 16,
   "id": "2bbd7759",
   "metadata": {},
   "outputs": [],
   "source": [
    "from langchain_community.document_loaders import PyPDFLoader, Docx2txtLoader"
   ]
  },
  {
   "cell_type": "code",
   "execution_count": 18,
   "id": "b3072094",
   "metadata": {},
   "outputs": [],
   "source": [
    "file_path = \"D:/AI enabled Test case gen/Documents/potter.txt\"  \n",
    "with open(file_path, \"r\", encoding=\"utf-8\") as f:\n",
    "    raw_text=f.read()\n",
    "# if file_path.endswith(\".pdf\"):\n",
    "#     loader = PyPDFLoader(file_path)\n",
    "# elif file_path.endswith(\".docx\"):\n",
    "#     loader = Docx2txtLoader(file_path)\n",
    "# else:\n",
    "#     raise ValueError(\"Unsupported file type\")\n",
    "\n",
    "# documents = loader.load()"
   ]
  },
  {
   "cell_type": "code",
   "execution_count": 19,
   "id": "01e2d1c9",
   "metadata": {},
   "outputs": [
    {
     "data": {
      "text/plain": [
       "'Harry Potter, an orphan known as \"The Boy Who Lived,\" is a wizard who attends Hogwarts School of Witchcraft and Wizardry. Sorted into Gryffindor house, he befriends Ron Weasley and Hermione Granger. His main adversary is Lord Voldemort, the dark wizard who murdered his parents, James and Lily Potter.\\n\\nThe Harry Potter series, written by J.K. Rowling, is a globally beloved collection of seven fantasy novels chronicling the life of a young wizard, Harry Potter, and his friends Hermione Granger and Ron Weasley. The main story arc follows Harry\\'s journey at Hogwarts School of Witchcraft and Wizardry and his epic struggle against the dark wizard Lord Voldemort, who murdered Harry\\'s parents and seeks to conquer the wizarding world. The books are set in a hidden magical world that coexists alongside the non-magical, or \"Muggle,\" world.\\n\\nThe central themes of the series are powerful and resonant, including friendship, love, sacrifice, and the eternal battle between good and evil. Each book corresponds to a school year at Hogwarts, where Harry learns magic, plays Quidditch (a popular wizarding sport), and unravels the mysteries of his past and destiny. He is often guided by the wise headmaster, Albus Dumbledore, and faces challenges from the sinister Potions master, Severus Snape, and the ruthless Voldemort and his followers, the Death Eaters.\\n\\nThe wizarding world is rich with detail, featuring magical creatures like dragons and house-elves, enchanted objects, and a complex political structure governed by the Ministry of Magic. The series has expanded into a massive franchise, including eight films, a play (\"Harry Potter and the Cursed Child\"), and the \"Fantastic Beasts\" film series, which explores the world before Harry\\'s time. The original books have sold over 600 million copies worldwide, making them the best-selling book series in history and a cultural phenomenon that has captivated generations of readers.'"
      ]
     },
     "execution_count": 19,
     "metadata": {},
     "output_type": "execute_result"
    }
   ],
   "source": [
    "raw_text"
   ]
  },
  {
   "cell_type": "code",
   "execution_count": 20,
   "id": "99b0edbc",
   "metadata": {},
   "outputs": [],
   "source": [
    "from langchain.text_splitter import RecursiveCharacterTextSplitter"
   ]
  },
  {
   "cell_type": "code",
   "execution_count": 25,
   "id": "3557d1b6",
   "metadata": {},
   "outputs": [],
   "source": [
    "#chunking function\n",
    "def chunk_text(text, chunk_size=500, chunk_overlap=100):\n",
    "    splitter = RecursiveCharacterTextSplitter(\n",
    "        chunk_size=chunk_size,\n",
    "        chunk_overlap=chunk_overlap\n",
    "    )\n",
    "    return splitter.split_text(text)"
   ]
  },
  {
   "cell_type": "code",
   "execution_count": 26,
   "id": "2cc0c5d9",
   "metadata": {},
   "outputs": [],
   "source": [
    "chunks = chunk_text(raw_text)"
   ]
  },
  {
   "cell_type": "code",
   "execution_count": 27,
   "id": "8c13677b",
   "metadata": {},
   "outputs": [],
   "source": [
    "from langchain_community.vectorstores import Chroma"
   ]
  },
  {
   "cell_type": "code",
   "execution_count": 28,
   "id": "2dcb86ba",
   "metadata": {},
   "outputs": [
    {
     "ename": "",
     "evalue": "",
     "output_type": "error",
     "traceback": [
      "\u001b[1;31mThe Kernel crashed while executing code in the current cell or a previous cell. \n",
      "\u001b[1;31mPlease review the code in the cell(s) to identify a possible cause of the failure. \n",
      "\u001b[1;31mClick <a href='https://aka.ms/vscodeJupyterKernelCrash'>here</a> for more info. \n",
      "\u001b[1;31mView Jupyter <a href='command:jupyter.viewOutput'>log</a> for further details."
     ]
    }
   ],
   "source": [
    "# vectorstore = Chroma(\n",
    "#     persist_directory=\"./Test1_chroma_sample_doc\",\n",
    "#     embedding_function=embeddings\n",
    "# )\n",
    "\n",
    "# batch_size = 10 \n",
    "\n",
    "# for i in range(0, len(chunks), batch_size):\n",
    "#     batch = chunks[i:i+batch_size]\n",
    "#     print(f\"Processing batch {i // batch_size + 1} / {len(chunks) // batch_size + 1}\")\n",
    "#     vectorstore.add_documents(batch)\n",
    "\n",
    "# print(\"✅ Embedding complete and saved!\")\n",
    "#store chunks in chroma\n",
    "vectorstore = Chroma.from_texts(chunks, embedding=embeddings, persist_directory=\"db\")"
   ]
  },
  {
   "cell_type": "code",
   "execution_count": null,
   "id": "edab5eb1",
   "metadata": {},
   "outputs": [],
   "source": [
    "import warnings\n",
    "warnings.filterwarnings('ignore')"
   ]
  },
  {
   "cell_type": "code",
   "execution_count": null,
   "id": "1c09f01c",
   "metadata": {},
   "outputs": [],
   "source": [
    "from langchain_google_genai import ChatGoogleGenerativeAI\n",
    "model = ChatGoogleGenerativeAI(model=\"models/gemini-2.5-flash-lite\",convert_system_message_to_human=True)"
   ]
  },
  {
   "cell_type": "code",
   "execution_count": null,
   "id": "17bd3133",
   "metadata": {},
   "outputs": [
    {
     "name": "stdout",
     "output_type": "stream",
     "text": [
      "Hi there! How can I help you today?\n"
     ]
    }
   ],
   "source": [
    "print(model.invoke(\"hi\").content)"
   ]
  },
  {
   "cell_type": "code",
   "execution_count": null,
   "id": "6a14d97c",
   "metadata": {},
   "outputs": [],
   "source": [
    "from langchain.chains import create_retrieval_chain\n",
    "from langchain.chains.combine_documents import create_stuff_documents_chain\n",
    "from langchain_core.prompts import ChatPromptTemplate\n",
    "from langchain_core.prompts import MessagesPlaceholder"
   ]
  },
  {
   "cell_type": "code",
   "execution_count": null,
   "id": "03880800",
   "metadata": {},
   "outputs": [
    {
     "name": "stdout",
     "output_type": "stream",
     "text": [
      "tags=['Chroma', 'GoogleGenerativeAIEmbeddings'] vectorstore=<langchain_community.vectorstores.chroma.Chroma object at 0x0000026B7F457FE0> search_kwargs={'k': 3}\n"
     ]
    }
   ],
   "source": [
    "retriever = vectorstore.as_retriever(search_kwargs={\"k\": 3})\n",
    "print(retriever)"
   ]
  },
  {
   "cell_type": "code",
   "execution_count": null,
   "id": "6bfea708",
   "metadata": {},
   "outputs": [],
   "source": [
    "#####\n",
    "system_prompt = (\n",
    "    \"You are an assistant for question-answering tasks. \"\n",
    "    \"Use the following pieces of retrieved context to answer the question \"\n",
    "    \"If you don't know the answer, say that you don't know.\"\n",
    "    \"Use three sentences maximum and keep the answer concise.\"\n",
    "    \"\\n\\n\"\n",
    "    \"{context}\"\n",
    ")"
   ]
  },
  {
   "cell_type": "code",
   "execution_count": null,
   "id": "2150dc31",
   "metadata": {},
   "outputs": [],
   "source": [
    "## Both are fed....\n",
    "chat_prompt = ChatPromptTemplate.from_messages(\n",
    "    [\n",
    "        (\"system\", system_prompt),\n",
    "        (\"human\", \"{input}\"),\n",
    "    ]\n",
    ")"
   ]
  },
  {
   "cell_type": "code",
   "execution_count": null,
   "id": "1c1104c8",
   "metadata": {},
   "outputs": [],
   "source": [
    "question_answering_chain = create_stuff_documents_chain(model, chat_prompt)"
   ]
  },
  {
   "cell_type": "code",
   "execution_count": null,
   "id": "b3d50246",
   "metadata": {},
   "outputs": [],
   "source": [
    "\n",
    "rag_chain = create_retrieval_chain(retriever, question_answering_chain)"
   ]
  },
  {
   "cell_type": "code",
   "execution_count": null,
   "id": "a0e5433a",
   "metadata": {},
   "outputs": [
    {
     "data": {
      "text/plain": [
       "\"I need the document you're referring to in order to provide a summary. Please provide the text or a link to the document.\""
      ]
     },
     "execution_count": 24,
     "metadata": {},
     "output_type": "execute_result"
    }
   ],
   "source": [
    "response = rag_chain.invoke({\"input\":\"what do you summarize from the given doc?\"})\n",
    "response[\"answer\"]"
   ]
  },
  {
   "cell_type": "code",
   "execution_count": null,
   "id": "ace2afe7",
   "metadata": {},
   "outputs": [],
   "source": [
    "while True:\n",
    "    ask_rag(\"What is the name of the librarian?\")"
   ]
  }
 ],
 "metadata": {
  "kernelspec": {
   "display_name": "Python 3",
   "language": "python",
   "name": "python3"
  },
  "language_info": {
   "codemirror_mode": {
    "name": "ipython",
    "version": 3
   },
   "file_extension": ".py",
   "mimetype": "text/x-python",
   "name": "python",
   "nbconvert_exporter": "python",
   "pygments_lexer": "ipython3",
   "version": "3.12.0"
  }
 },
 "nbformat": 4,
 "nbformat_minor": 5
}
